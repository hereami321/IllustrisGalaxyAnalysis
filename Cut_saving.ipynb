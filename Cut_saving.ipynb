{
 "cells": [
  {
   "cell_type": "code",
   "execution_count": 1,
   "metadata": {},
   "outputs": [],
   "source": [
    "import numpy as np\n",
    "import matplotlib.pyplot as plt \n",
    "import scipy\n",
    "from astropy.table import Table, join\n",
    "import illustris_python as il\n",
    "from astropy.table import setdiff\n",
    "import time as time\n",
    "import scipy.signal as signal\n",
    "import scipy.interpolate as interpolate\n",
    "from astropy.cosmology import Planck15 as cosmo\n",
    "from astropy.table import vstack\n",
    "import h5py\n",
    "import matplotlib.gridspec as gridspec"
   ]
  },
  {
   "cell_type": "code",
   "execution_count": 2,
   "metadata": {},
   "outputs": [
    {
     "data": {
      "text/html": [
       "<style>.container { width:90% !important; }</style>"
      ],
      "text/plain": [
       "<IPython.core.display.HTML object>"
      ]
     },
     "metadata": {},
     "output_type": "display_data"
    },
    {
     "data": {
      "text/html": [
       "<style>.output_result { max-width:90% !important; }</style>"
      ],
      "text/plain": [
       "<IPython.core.display.HTML object>"
      ]
     },
     "metadata": {},
     "output_type": "display_data"
    }
   ],
   "source": [
    "from IPython.core.display import display, HTML\n",
    "display(HTML(\"<style>.container { width:90% !important; }</style>\"))\n",
    "display(HTML(\"<style>.output_result { max-width:90% !important; }</style>\"))"
   ]
  },
  {
   "cell_type": "code",
   "execution_count": 15,
   "metadata": {},
   "outputs": [
    {
     "name": "stdout",
     "output_type": "stream",
     "text": [
      "17120875\n",
      "19595267\n"
     ]
    }
   ],
   "source": [
    "\"\"\"\n",
    "300-1 Loading\n",
    "\"\"\"\n",
    "basePath = '/home/mattbel/Desktop/Research/BhuvSummer2020/Illustris-300-1/output'\n",
    "snapshot_ind = 50\n",
    "\n",
    "\n",
    "#Header gives basic group info\n",
    "header = il.groupcat.loadHeader(basePath, snapshot_ind)\n",
    "scale_factor = header['Time']\n",
    "\n",
    "#Relevant fields\n",
    "fields = ['SubhaloFlag','SubhaloGrNr', 'SubhaloMass', 'SubhaloMassType', 'SubhaloPos','SubhaloSFR',\n",
    "          'SubhaloSpin','SubhaloStarMetallicity','SubhaloStellarPhotometrics','SubhaloVel','SubhaloVmax', 'SubhaloBHMass','SubhaloStarMetalFractions']\n",
    "fields2 = ['GroupFirstSub', 'GroupMass', 'GroupMassType','GroupNsubs','GroupPos','GroupVel',\n",
    "           'Group_M_Mean200','Group_M_Crit200','Group_M_Crit500','Group_R_Crit200','Group_R_Crit500','Group_R_Mean200']\n",
    "#Load in the subhalo/halo tables\n",
    "subhalo_grp = il.groupcat.loadSubhalos(basePath, snapshot_ind, fields = fields)\n",
    "halo_grp = il.groupcat.loadHalos(basePath, snapshot_ind, fields = fields2)\n",
    "\n",
    "\n",
    "#Get the keys for each\n",
    "subhalo_keys = (list(subhalo_grp.keys()))\n",
    "halo_keys = (list(halo_grp.keys()))\n",
    "\n",
    "print(subhalo_grp['count'])\n",
    "print(halo_grp['count'])\n",
    "halo_grp.pop('count')\n",
    "halo_keys.remove('count')\n",
    "subhalo_grp.pop('count')\n",
    "subhalo_keys.remove('count')\n",
    "\n",
    "subhalo_keys = (list(subhalo_grp.keys()))\n",
    "halo_keys = (list(halo_grp.keys()))\n",
    "subhalo_table = Table(list(subhalo_grp.values()), names=(subhalo_keys))\n",
    "subhalo_table.add_column([x for x in range(len(subhalo_table))], name='Index' ,index=0)\n",
    "\n",
    "del subhalo_grp\n",
    "\n",
    "halo_table = Table(list(halo_grp.values()), names=(halo_keys))\n",
    "halo_table.add_column([x for x in range(len(halo_table))], name='SubhaloGrNr' ,index=0)\n",
    "\n",
    "subhalo_table = join(subhalo_table, halo_table, keys='SubhaloGrNr', join_type='left')\n",
    "\n",
    "subhalo_table.add_column(subhalo_table[\"SubhaloMassType\"][:,4], name=str(\"StellarMass\"))\n",
    "subhalo_table.add_column(subhalo_table['GroupFirstSub'] == subhalo_table['Index'],name=str(\"IsCentral\"))"
   ]
  },
  {
   "cell_type": "code",
   "execution_count": 16,
   "metadata": {},
   "outputs": [],
   "source": [
    "del halo_grp\n",
    "del halo_table"
   ]
  },
  {
   "cell_type": "code",
   "execution_count": 17,
   "metadata": {},
   "outputs": [],
   "source": [
    "def cut_color_lines(table, min_gmr, max_gmr):\n",
    "    mag = table['SubhaloStellarPhotometrics']\n",
    "    gmr_cut_low = (mag[:,4]-mag[:,5]) > min_gmr\n",
    "    gmr_cut_high = (mag[:,4]-mag[:,5])< max_gmr\n",
    "    return  table[gmr_cut_low & gmr_cut_high]\n",
    "\n",
    "def cut_mass_high(table, field, num):\n",
    "    if(field == \"SubhaloMassType\" or field == \"SubhaloMassInRadType\"):\n",
    "        subhalomass = np.array(np.log10(table[field][:,4]*1e10))\n",
    "        mask = subhalomass > num\n",
    "        return table[mask]\n",
    "    else:\n",
    "        subhalomass = np.array(np.log10(table[field]*1e10))\n",
    "        mask = subhalomass > num\n",
    "        return table[mask]\n",
    "\n",
    "def cut_mass_low(table, field, num):\n",
    "    if(field == \"SubhaloMassType\" or field == \"SubhaloMassInRadType\"):\n",
    "        subhalomass = np.array(np.log10(table[field][:,4]*1e10))\n",
    "        mask = subhalomass < num\n",
    "        return table[mask]\n",
    "    else:\n",
    "        subhalomass = np.array(np.log10(table[field]*1e10))\n",
    "        mask = subhalomass < num\n",
    "        return table[mask]"
   ]
  },
  {
   "cell_type": "code",
   "execution_count": 18,
   "metadata": {},
   "outputs": [],
   "source": [
    "subhalo_table = subhalo_table[subhalo_table['SubhaloFlag']]\n",
    "subhalo_table = subhalo_table[subhalo_table['SubhaloMassType'][:,4]!=0]\n",
    "\n",
    "sh81 = cut_mass_high(subhalo_table, \"SubhaloMassType\", 8)\n",
    "sh81.write(\"Subhalo_stellar_8_snapshot\"+str(snapshot_ind)+\".fits\", format='fits')\n",
    "\n",
    "sh91 = cut_mass_high(subhalo_table, \"SubhaloMassType\", 9)\n",
    "sh91.write(\"Subhalo_stellar_9_snapshot\"+str(snapshot_ind)+\".fits\", format='fits')\n",
    "\n",
    "sh82 = cut_mass_high(subhalo_table, \"SubhaloMass\", 8)\n",
    "sh82.write(\"Subhalo_total_8_snapshot\"+str(snapshot_ind)+\".fits\", format='fits')\n",
    "\n",
    "sh92 = cut_mass_high(subhalo_table, \"SubhaloMass\", 9)\n",
    "sh92.write(\"Subhalo_total_9_snapshot\"+str(snapshot_ind)+\".fits\", format='fits')  "
   ]
  },
  {
   "cell_type": "code",
   "execution_count": 19,
   "metadata": {},
   "outputs": [
    {
     "name": "stderr",
     "output_type": "stream",
     "text": [
      "<ipython-input-17-8970e05913a2>:13: RuntimeWarning: divide by zero encountered in log10\n",
      "  subhalomass = np.array(np.log10(table[field]*1e10))\n"
     ]
    }
   ],
   "source": [
    "cut_mass_high(sh81, \"Group_M_Mean200\", 13.5).write(\"SH_stellar8_GM200_13_5_snapshot\"+str(snapshot_ind)+\".fits\",format='fits')  \n",
    "cut_mass_high(sh81, \"Group_M_Mean200\", 13.7).write(\"SH_stellar8_GM200_13_7_snapshot\"+str(snapshot_ind)+\".fits\",format='fits')  \n",
    "cut_mass_high(sh81, \"Group_M_Mean200\", 14).write(\"SH_stellar8_GM200_14_snapshot\"+str(snapshot_ind)+\".fits\",format='fits')  \n",
    "\n",
    "cut_mass_high(sh82, \"Group_M_Mean200\", 13.5).write(\"SH_total8_GM200_13_5_snapshot\"+str(snapshot_ind)+\".fits\",format='fits')\n",
    "cut_mass_high(sh82, \"Group_M_Mean200\", 13.7).write(\"SH_total8_GM200_13_7_snapshot\"+str(snapshot_ind)+\".fits\",format='fits')  \n",
    "cut_mass_high(sh82, \"Group_M_Mean200\", 14).write(\"SH_total8_GM200_14_snapshot\"+str(snapshot_ind)+\".fits\",format='fits')  \n",
    "\n",
    "cut_mass_high(sh91, \"Group_M_Mean200\", 13.5).write(\"SH_stellar9_GM200_13_5_snapshot\"+str(snapshot_ind)+\".fits\",format='fits')\n",
    "cut_mass_high(sh91, \"Group_M_Mean200\", 13.7).write(\"SH_stellar9_GM200_13_7_snapshot\"+str(snapshot_ind)+\".fits\",format='fits')  \n",
    "cut_mass_high(sh91, \"Group_M_Mean200\", 14).write(\"SH_sterllar9_GM200_14_snapshot\"+str(snapshot_ind)+\".fits\",format='fits')  \n",
    "\n",
    "cut_mass_high(sh92, \"Group_M_Mean200\", 13.5).write(\"SH_total9_GM200_13_5_snapshot\"+str(snapshot_ind)+\".fits\",format='fits')\n",
    "cut_mass_high(sh92, \"Group_M_Mean200\", 13.7).write(\"SH_total9_GM200_13_7_snapshot\"+str(snapshot_ind)+\".fits\",format='fits')  \n",
    "cut_mass_high(sh92, \"Group_M_Mean200\", 14).write(\"SH_total9_GM200_14_snapshot\"+str(snapshot_ind)+\".fits\",format='fits')  \n"
   ]
  },
  {
   "cell_type": "code",
   "execution_count": null,
   "metadata": {},
   "outputs": [],
   "source": []
  }
 ],
 "metadata": {
  "kernelspec": {
   "display_name": "Python 3",
   "language": "python",
   "name": "python3"
  },
  "language_info": {
   "codemirror_mode": {
    "name": "ipython",
    "version": 3
   },
   "file_extension": ".py",
   "mimetype": "text/x-python",
   "name": "python",
   "nbconvert_exporter": "python",
   "pygments_lexer": "ipython3",
   "version": "3.8.5"
  }
 },
 "nbformat": 4,
 "nbformat_minor": 4
}
