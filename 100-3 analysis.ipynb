{
 "cells": [
  {
   "cell_type": "code",
   "execution_count": 22,
   "metadata": {},
   "outputs": [],
   "source": [
    "#Imports\n",
    "import numpy as np\n",
    "import matplotlib.pyplot as plt \n",
    "import scipy\n",
    "from astropy.table import Table, join\n",
    "import illustris_python as il\n",
    "from astropy.table import setdiff\n",
    "import time as time"
   ]
  },
  {
   "cell_type": "code",
   "execution_count": 47,
   "metadata": {},
   "outputs": [
    {
     "name": "stdout",
     "output_type": "stream",
     "text": [
      "4371211\n",
      "6291349\n",
      "10.20634150505066\n"
     ]
    }
   ],
   "source": [
    "\"\"\"\n",
    "100-1 Loading\n",
    "\"\"\"\n",
    "basePath = '/home/mattbel/Desktop/Research/BhuvSummer2020/Illustris-100-1/output'\n",
    "snapshot_ind = 99\n",
    "\n",
    "\"\"\"\n",
    "100-3 Loading\n",
    "\n",
    "basePath = '/home/mattbel/Desktop/Research/BhuvSummer2020/Illustris-100-3/ouput'\n",
    "snapshot_ind = 99 \n",
    "\"\"\"\n",
    "#Header gives basic group info\n",
    "header = il.groupcat.loadHeader(basePath, snapshot_ind)\n",
    "#Scale Factor\n",
    "scale_factor = header['Time']\n",
    "\n",
    "#Load in the subhalo/halo tables\n",
    "subhalo_grp = il.groupcat.loadSubhalos(basePath, snapshot_ind)\n",
    "halo_grp = il.groupcat.loadHalos(basePath, snapshot_ind)\n",
    "\n",
    "#Get the keys for each\n",
    "subhalo_keys = (list(subhalo_grp.keys()))\n",
    "halo_keys = (list(halo_grp.keys()))\n",
    "\n",
    "print(subhalo_grp['count'])\n",
    "print(halo_grp['count'])"
   ]
  },
  {
   "cell_type": "code",
   "execution_count": 48,
   "metadata": {},
   "outputs": [
    {
     "name": "stdout",
     "output_type": "stream",
     "text": [
      "0.023657560348510742\n"
     ]
    }
   ],
   "source": [
    "useless_keys_subhalo = ['count', 'SubhaloBHMdot','SubhaloBfldDisk','SubhaloBfldHalo','SubhaloGasMetalFractionsHalfRad',\n",
    "                'SubhaloGasMetalFractionsMaxRad', 'SubhaloGasMetallicity', 'SubhaloGasMetallicityHalfRad',\n",
    "                'SubhaloGasMetalFractionsSfr', 'SubhaloGasMetalFractionsSfrWeighted',\n",
    "               'SubhaloGasMetallicityMaxRad','SubhaloGasMetallicitySfr','SubhaloGasMetallicitySfrWeighted', \n",
    "               'SubhaloIDMostbound', 'SubhaloSFRinHalfRad','SubhaloSFRinMaxRad', 'SubhaloSFRinRad',\n",
    "               'SubhaloStarMetalFractionsHalfRad','SubhaloStarMetalFractionsMaxRad']\n",
    "for i in range(0, len(useless_keys_subhalo)):\n",
    "    subhalo_keys.remove(useless_keys_subhalo[i])\n",
    "\n",
    "[subhalo_grp.pop(key) for key in useless_keys_subhalo] \n",
    "\n",
    "useless_keys_halo = ['count','GroupBHMdot','GroupGasMetalFractions', 'GroupStarMetalFractions']\n",
    "    \n",
    "for i in range(0, len(useless_keys_halo)):\n",
    "    halo_keys.remove(useless_keys_halo[i])\n",
    "\n",
    "[halo_grp.pop(key) for key in useless_keys_halo] "
   ]
  },
  {
   "cell_type": "code",
   "execution_count": 61,
   "metadata": {
    "scrolled": false
   },
   "outputs": [
    {
     "name": "stdout",
     "output_type": "stream",
     "text": [
      "33.09524393081665\n"
     ]
    }
   ],
   "source": [
    "subhalo_keys = (list(subhalo_grp.keys()))\n",
    "halo_keys = (list(halo_grp.keys()))\n",
    "\n",
    "subhalo_table = Table(list(subhalo_grp.values()), names=(subhalo_keys))\n",
    "subhalo_table.add_column([x for x in range(len(subhalo_table))], name='Index' ,index=0)\n",
    "\n",
    "halo_table = Table(list(halo_grp.values()), names=(halo_keys))\n",
    "halo_table.add_column([x for x in range(len(halo_table))], name='SubhaloGrNr' ,index=0)\n",
    "\n",
    "subhalo_table = join(subhalo_table, halo_table, keys='SubhaloGrNr', join_type='left')\n",
    "\n",
    "subhalo_table.add_column(subhalo_table['GroupFirstSub'] == subhalo_table['Index'],name=str(\"IsCentral\"))\n",
    "subhalo_table.add_column(subhalo_table[\"SubhaloMassInHalfRadType\"][:,4], name=str(\"StellarMassHalfRad\"))\n",
    "subhalo_table.add_column(subhalo_table[\"SubhaloMassType\"][:,4], name=str(\"StellarMass\"))"
   ]
  },
  {
   "cell_type": "code",
   "execution_count": 62,
   "metadata": {},
   "outputs": [
    {
     "name": "stdout",
     "output_type": "stream",
     "text": [
      "4371211\n"
     ]
    }
   ],
   "source": [
    "print(len(subhalo_table))"
   ]
  },
  {
   "cell_type": "code",
   "execution_count": 63,
   "metadata": {},
   "outputs": [],
   "source": [
    "def cut_color_lines(table, min_gmr, max_gmr):\n",
    "    mag = table['SubhaloStellarPhotometrics']\n",
    "    gmr_cut_low = (mag[:,4]-mag[:,5]) > min_gmr\n",
    "    gmr_cut_high = (mag[:,4]-mag[:,5])< max_gmr\n",
    "    return  table[gmr_cut_low & gmr_cut_high]\n",
    "\n",
    "def cut_color_squares(table, min_gmr, max_gmr, min_rmz, max_rmz):\n",
    "    #0.46, 0.34 min_gmr and max_rmz for my original \"blue\"\n",
    "    #0.66, 0.52 min_gmr and min_rmz for my original \"red\"\n",
    "    mag = table['SubhaloStellarPhotometrics']\n",
    "    gmr_cut_low = (mag[:,4]-mag[:,5]) > min_gmr\n",
    "    gmr_cut_high = (mag[:,4]-mag[:,5])< max_gmr\n",
    "    rmz_cut_low = (mag[:,5]-mag[:,7])> min_rmz\n",
    "    rmz_cut_high = (mag[:,5]-mag[:,7]) < max_rmz\n",
    "    return table[gmr_cut_low & gmr_cut_high & rmz_cut_low & rmz_cut_high]\n",
    "\n",
    "def cut_mass_high(table, field, num):\n",
    "    if(field == \"SubhaloMassType\" or field == \"SubhaloMassInRadType\"):\n",
    "        subhalomass = np.array(np.log10(table[field][:,4]*1e10))\n",
    "        mask = subhalomass > num\n",
    "        return table[mask]\n",
    "    else:\n",
    "        subhalomass = np.array(np.log10(table[field]*1e10))\n",
    "        mask = subhalomass > num\n",
    "        return table[mask]\n",
    "\n",
    "def cut_mass_low(table, field, num):\n",
    "    if(field == \"SubhaloMassType\" or field == \"SubhaloMassInRadType\"):\n",
    "        subhalomass = np.array(np.log10(table[field][:,4]*1e10))\n",
    "        mask = subhalomass < num\n",
    "        return table[mask]\n",
    "    else:\n",
    "        subhalomass = np.array(np.log10(table[field]*1e10))\n",
    "        mask = subhalomass < num\n",
    "        return table[mask]"
   ]
  },
  {
   "cell_type": "code",
   "execution_count": 64,
   "metadata": {},
   "outputs": [
    {
     "name": "stdout",
     "output_type": "stream",
     "text": [
      "4371211\n",
      "327324\n",
      "11073\n",
      "Masking step 1 - remove low-mass subhalos - complete \n",
      "\n",
      "Central galaxies: 183\n",
      "Satellite galaxies: 10890\n",
      "Field Galaxies: 0\n",
      "Masking step 2 - separate all centrals, satellites, and centrals with satellites in same halo, complete \n",
      "\n"
     ]
    }
   ],
   "source": [
    "print(len(subhalo_table))\n",
    "subhalo_table = subhalo_table[subhalo_table['SubhaloFlag']]\n",
    "subhalo_table = subhalo_table[subhalo_table['SubhaloMassType'][:,4]!=0]\n",
    "print(len(subhalo_table))\n",
    "\n",
    "all_galaxies = cut_mass_high(subhalo_table, \"GroupMass\", 13)\n",
    "all_galaxies = cut_mass_high(all_galaxies, \"SubhaloMassType\", 8)\n",
    "\n",
    "print(len(all_galaxies))\n",
    "print('Masking step 1 - remove low-mass subhalos - complete \\n')\n",
    "\n",
    "centrals = all_galaxies[all_galaxies['IsCentral']]\n",
    "satellites = all_galaxies[np.bitwise_not(all_galaxies['IsCentral'])]\n",
    "\n",
    "field_galaxies = centrals[centrals['GroupNsubs']<=1]\n",
    "field_galaxies = field_galaxies[field_galaxies['IsCentral']]\n",
    "\n",
    "print(\"Central galaxies: \" + str(len(centrals)))\n",
    "print(\"Satellite galaxies: \" + str(len(satellites)))\n",
    "print(\"Field Galaxies: \" + str(len(field_galaxies)))\n",
    "print(\"Masking step 2 - separate all centrals, satellites, and centrals with satellites in same halo, complete \\n\")"
   ]
  },
  {
   "cell_type": "code",
   "execution_count": 66,
   "metadata": {
    "scrolled": false
   },
   "outputs": [
    {
     "name": "stdout",
     "output_type": "stream",
     "text": [
      "43820\n",
      "32930\n",
      "32747\n",
      "122.96966934204102\n"
     ]
    }
   ],
   "source": [
    "t0 = time.time()\n",
    "\"\"\"\n",
    "Go through all halos and add those within a certain distance.\n",
    "\"\"\"\n",
    "#Examine only galaxies mass greater than 10^8\n",
    "to_add = cut_mass_high(subhalo_table, \"SubhaloMassType\", 8)\n",
    "print(len(to_add))\n",
    "\n",
    "to_add = setdiff(to_add, satellites, keys='Index')\n",
    "print(len(to_add))\n",
    "\n",
    "to_add = setdiff(to_add, centrals, keys='Index')\n",
    "print(len(to_add))\n",
    "\n",
    "#iterate through all central galaxies\n",
    "for i in range(0, len(centrals)):\n",
    "    \n",
    "    #get center of mass location for current central\n",
    "    gal_cm = centrals['SubhaloPos'][i]\n",
    "    \n",
    "    #radius in Mpc/h to cut at\n",
    "    value =  centrals['Group_R_Mean200'][i]*5*0.001\n",
    "    \n",
    "    #Get basic info about the box bounds to prevent wrapping issues.\n",
    "    boxsize = header['BoxSize'] #kpc/h\n",
    "    box_bounds = boxsize*np.ones(3)\n",
    "\n",
    "    #Create an array of distances from all subhalos in the data satisfying a certain criterion to gal_cm\n",
    "    dev = to_add['SubhaloPos'] - gal_cm\n",
    "    for ind, q in enumerate(dev.T):\n",
    "        q = np.where(np.abs(q) > 0.5 * box_bounds[ind], box_bounds[ind]-np.abs(q), q)\n",
    "        dev.T[ind] = q  \n",
    "    r_subhalo = np.linalg.norm(dev, axis=1)*.001*scale_factor #Mpc/h\n",
    "    \n",
    "    #Cut here\n",
    "    to_add_now = to_add[r_subhalo < value]\n",
    "    \n",
    "    group_n_subs = np.array(to_add['GroupNsubs'])\n",
    "    \n",
    "    if(len(to_add_now)!=0):\n",
    "        for k in range(1,len(halo_keys)):\n",
    "            to_add_now[halo_keys[k]] = [centrals[halo_keys[k]][i]]*len(to_add_now)\n",
    "        for j in range(0, len(to_add_now)):\n",
    "            satellites.add_row(to_add_now[j])\n",
    "            to_add = to_add[to_add['Index']!=to_add_now['Index'][j]]\n",
    "            \n",
    "    if(len(to_add)==0):\n",
    "        break\n",
    "print(time.time()-t0)"
   ]
  },
  {
   "cell_type": "code",
   "execution_count": null,
   "metadata": {},
   "outputs": [],
   "source": [
    "\"\"\"\n",
    "Define color splits as per Tara's slide 24\n",
    "\"\"\"\n",
    "centrals_red = cut_mass_high(cut_color_lines(centrals, 0.6, 1000), \"StellarMass\" ,10.2)\n",
    "centrals_green = cut_mass_low(cut_color_lines(centrals, 0.6, 1000), \"StellarMass\" ,10.2)\n",
    "centrals_blue = cut_color_lines(centrals, 0, 0.5)\n",
    "\n",
    "satellites_red = cut_mass_high(cut_color_lines(satellites, 0.6, 1000), \"StellarMass\" ,10.2)\n",
    "satellites_green = cut_mass_low(cut_color_lines(satellites, 0.6, 1000), \"StellarMass\" ,10.2)\n",
    "satellites_blue = cut_color_lines(satellites, 0, 0.5)\n",
    "\n",
    "field_galaxies_red = cut_mass_high(cut_color_lines(field_galaxies, 0.6, 1000), \"StellarMass\" ,10.2)\n",
    "field_galaxies_green = cut_mass_low(cut_color_lines(field_galaxies, 0.6, 1000), \"StellarMass\" ,10.2)\n",
    "field_galaxies_blue = cut_color_lines(field_galaxies, 0, 0.5)\n",
    "\n",
    "print(\"Central galaxies red: \" + str(len(centrals_red)))\n",
    "print(\"Central galaxies green: \" + str(len(centrals_green)))\n",
    "print(\"Central galaxies blue: \" + str(len(centrals_blue)))\n",
    "\n",
    "print(\"Satellite galaxies red: \" + str(len(satellites_red)))\n",
    "print(\"Satellite galaxies green: \" + str(len(satellites_green)))\n",
    "print(\"Satellite galaxies blue: \" + str(len(satellites_blue)))\n",
    "\n",
    "print(\"Field Galaxies red: \" + str(len(field_galaxies_red)))\n",
    "print(\"Field Galaxies green: \" + str(len(field_galaxies_green)))\n",
    "print(\"Field Galaxies blue: \" + str(len(field_galaxies_blue)))\n",
    "\n",
    "print(\"Masking step 3 - color splits for each type of galaxy, complete \\n\")"
   ]
  },
  {
   "cell_type": "code",
   "execution_count": null,
   "metadata": {},
   "outputs": [],
   "source": [
    "def plot_all_bands(table):\n",
    "    subhalomass = np.array(np.log10(table[\"SubhaloMassInHalfRad\"]*1e104371211))\n",
    "    mask = subhalomass > 10.3\n",
    "    st = table[mask]\n",
    "    fig, ax = plt.subplots(4,2)\n",
    "    fig.set_size_inches(16,20)\n",
    "    plt.subplots_adjust(hspace = 0.5)\n",
    "    band_names = ['U', 'B', 'V','K', 'g', 'r', 'i', 'z']\n",
    "    for bands in range(8):\n",
    "        mag = st['SubhaloStellarPhotometrics'][:,bands]\n",
    "        ax[bands%4][bands//4].hist(mag, bins=50)\n",
    "        ax[bands%4][bands//4].set_xlabel('magnitude in ' + band_names[bands] + \" band\", fontsize = 16 )\n",
    "        ax[bands%4][bands//4].set_ylabel('count', fontsize = 16)\n",
    "    plt.show()"
   ]
  },
  {
   "cell_type": "code",
   "execution_count": null,
   "metadata": {},
   "outputs": [],
   "source": [
    "def mass_vs_gmr(table, table_name, mass_type):\n",
    "    #Recreating Figure 3 from https://arxiv.org/pdf/1707.03395.pdf\n",
    "    mag = table['SubhaloStellarPhotometrics'][:,4] - table['SubhaloStellarPhotometrics'][:,5]\n",
    "    mass = np.array(np.log10(table[mass_type]*1e10))\n",
    "    plt.ylabel(\"$\\mathrm{g-r}$\", fontsize = 16)\n",
    "    plt.xlabel(\"Mass\", fontsize = 16)\n",
    "    plt.title(table_name, fontsize = 16)\n",
    "    #heights, mass_bins, mag_bins = np.histogram2d(mass, mag, bins=50)\n",
    "    #plt.contour(mass_bins[0:50],mag_bins[0:50], heights, colors=['red','orange','pink','green'])\n",
    "    plt.hist2d(mass, mag, bins=50, cmap='viridis', cmin=0.1) #, range=[[9,12], [0,1]])\n",
    "    plt.show()"
   ]
  },
  {
   "cell_type": "code",
   "execution_count": null,
   "metadata": {},
   "outputs": [],
   "source": [
    "def formation_rate_vs_gmr(table, table_name):\n",
    "    #table = table[table['SubhaloSFR']>0]\n",
    "    mag = table['SubhaloStellarPhotometrics'][:,4] - table['SubhaloStellarPhotometrics'][:,5]\n",
    "    plt.figure(figsize=(8,6))\n",
    "    mass = table['SubhaloSFR']\n",
    "    plt.xlabel(\"$\\mathrm{g-r}$\", fontsize = 14)\n",
    "    plt.ylabel(\"Stellar Formation Rate: Msun/yr\", fontsize = 14)\n",
    "    plt.title(table_name, fontsize=16)\n",
    "    plt.hist2d(mag, mass, bins=50, cmap='viridis', cmin=0.1) # range=[[0,0.9], [0,0.8]])\n",
    "    plt.colorbar()\n",
    "    plt.show()"
   ]
  },
  {
   "cell_type": "code",
   "execution_count": null,
   "metadata": {},
   "outputs": [],
   "source": [
    "def metallicity_vs_gmr(table, table_name):\n",
    "    table = table[table['SubhaloSFR']>0]\n",
    "    mag = table['SubhaloStellarPhotometrics'][:,4] - table['SubhaloStellarPhotometrics'][:,5]\n",
    "    plt.figure(figsize=(8,6))\n",
    "    metallicity = table['SubhaloStarMetallicity']\n",
    "    plt.xlabel(\"$\\mathrm{g-r}$\", fontsize = 14)\n",
    "    plt.ylabel(\"Mass-weighted average metallicity\", fontsize = 14)\n",
    "    plt.title(table_name, fontsize=16)\n",
    "    plt.hist2d(mag, metallicity, bins=50, cmap='viridis', range=[[0,0.9], [0,0.08]], cmin=0.1)\n",
    "    plt.colorbar()\n",
    "    plt.show()"
   ]
  },
  {
   "cell_type": "code",
   "execution_count": null,
   "metadata": {},
   "outputs": [],
   "source": [
    "def formation_rate_vs_mass(table, table_name, mass_type):\n",
    "    table = table[table['SubhaloSFR']>0]\n",
    "    mag = table['SubhaloStellarPhotometrics'][:,4] - table['SubhaloStellarPhotometrics'][:,5]\n",
    "    #table = table[mag<0.55] #mag cut \n",
    "    mass = np.array(np.log10(table[mass_type]*1e10))\n",
    "    plt.figure(figsize=(8,6))\n",
    "    sfr = table['SubhaloSFR']\n",
    "    plt.xlabel(\"Mass\", fontsize = 14)\n",
    "    plt.ylabel(\"Stellar Formation Rate: Msun/yr\", fontsize = 14)\n",
    "    plt.title(table_name, fontsize=16)\n",
    "    plt.hist2d(mass, sfr, bins=50, cmap='viridis', cmin=0.1, range=[[8,12.5],[0,10]])\n",
    "    plt.colorbar()\n",
    "    plt.show()"
   ]
  },
  {
   "cell_type": "code",
   "execution_count": null,
   "metadata": {},
   "outputs": [],
   "source": [
    "def hydrogen_rate_vs_gmr(table, table_name):\n",
    "    table = table[table['SubhaloStarMetalFractions'][:,0]>0]\n",
    "    mag = table['SubhaloStellarPhotometrics'][:,4] - table['SubhaloStellarPhotometrics'][:,5]\n",
    "    plt.figure(figsize=(8,6))\n",
    "    plt.xlabel(\"$\\mathrm{g-r}$\", fontsize = 14)\n",
    "    plt.ylabel(\"Hydrogen Abundance\", fontsize = 14)\n",
    "    plt.title(table_name, fontsize=16)\n",
    "    plt.hist2d(mag, table['SubhaloStarMetalFractions'][:,0], bins=50, cmap='viridis', cmin=0.1) #, range=[[0,0.9], [0.6,0.9]])\n",
    "    plt.colorbar()\n",
    "    plt.show()"
   ]
  },
  {
   "cell_type": "code",
   "execution_count": null,
   "metadata": {},
   "outputs": [],
   "source": [
    "def helium_rate_vs_gmr(table, table_name):\n",
    "    table = table[table['SubhaloStarMetalFractions'][:,1]>0]\n",
    "    mag = table['SubhaloStellarPhotometrics'][:,4] - table['SubhaloStellarPhotometrics'][:,5]\n",
    "    plt.figure(figsize=(8,6))\n",
    "    plt.xlabel(\"$\\mathrm{g-r}$\", fontsize = 14)\n",
    "    plt.ylabel(\"Helium Abundance\", fontsize = 14)\n",
    "    plt.title(table_name, fontsize=16)\n",
    "    plt.hist2d(mag, table['SubhaloStarMetalFractions'][:,1], bins=50, cmap='viridis', cmin=0.1) #, range=[[0,0.9], [0.6,0.9]])\n",
    "    plt.colorbar()\n",
    "    plt.show()"
   ]
  },
  {
   "cell_type": "code",
   "execution_count": null,
   "metadata": {},
   "outputs": [],
   "source": [
    "def element_rate_vs_mass(table, table_name, mass_type):\n",
    "    elements = ['H', 'He', 'C', 'N', 'O', 'Ne', 'Mg', 'Si', 'Fe']\n",
    "    fig, ax = plt.subplots(3,3)\n",
    "    fig.set_size_inches(16,16)\n",
    "    for i in range (0, len(elements)):\n",
    "        mass = np.array(np.log10(table[mass_type]*1e10))\n",
    "        ax[i//3][i%3].set_xlabel(\"Mass: \" + str(mass_type), fontsize = 11)\n",
    "        ax[i//3][i%3].set_ylabel(elements[i] + \" Abundance\", fontsize = 11)\n",
    "        ax[i//3][i%3].set_title(elements[i] + \" in \" + table_name, fontsize=12)\n",
    "        ax[i//3][i%3].hist2d(mass, table['SubhaloStarMetalFractions'][:,i], bins=50, cmap='viridis', cmin=0.1)"
   ]
  },
  {
   "cell_type": "code",
   "execution_count": null,
   "metadata": {},
   "outputs": [],
   "source": [
    "def element_rate_vs_gmr(table, table_name):\n",
    "    elements = ['H', 'He', 'C', 'N', 'O', 'Ne', 'Mg', 'Si', 'Fe']\n",
    "    for i in range (0, len(elements)):\n",
    "        #table = table[table['SubhaloStarMetalFractions']>0]\n",
    "        mag = table['SubhaloStellarPhotometrics'][:,4] - table['SubhaloStellarPhotometrics'][:,5]\n",
    "        plt.figure(figsize=(6,4))\n",
    "        plt.xlabel(\"$\\mathrm{g-r}$\", fontsize = 11)\n",
    "        plt.ylabel(elements[i] + \" Abundance\", fontsize = 11)\n",
    "        plt.title(elements[i] + \" in \" + table_name, fontsize=12)\n",
    "        plt.hist2d(mag, table['SubhaloStarMetalFractions'][:,i], bins=50, cmap='viridis', cmin=0.1) \n",
    "        plt.colorbar()\n",
    "        plt.show()"
   ]
  },
  {
   "cell_type": "code",
   "execution_count": null,
   "metadata": {},
   "outputs": [],
   "source": [
    "def gmr_mass_bins_hist(table, table_name, mass_type):\n",
    "    bins = [9.0,9.5,10.0,10.5,11.0,11.5,12.0]\n",
    "    fig, ax = plt.subplots(2,3)\n",
    "    fig.set_size_inches(18,11)\n",
    "    for i in range(0,6):\n",
    "        s1 = cut_mass_high(table, mass_type, bins[i])\n",
    "        s2 = cut_mass_low(table, mass_type, bins[i+1])\n",
    "        mask2 = np.array(np.log10(s1[mass_type]*1e10)) < bins[i+1]\n",
    "        s2 = s1[mask2]\n",
    "        mag = s2['SubhaloStellarPhotometrics'][:,4] - s2['SubhaloStellarPhotometrics'][:,5]\n",
    "        ax[i//3][i%3].hist(mag, bins=50) #, density=True)\n",
    "        ax[i//3][i%3].set_title(\"Mass bin: \"+str(bins[i])+\"-\"+str(bins[i+1]) + \" for table: \" + table_name)\n",
    "        ax[i//3][i%3].set_xlabel('magnitude in g-r band', fontsize = 16 )\n",
    "        ax[i//3][i%3].set_ylabel('count', fontsize = 16)"
   ]
  },
  {
   "cell_type": "code",
   "execution_count": null,
   "metadata": {},
   "outputs": [],
   "source": [
    "def color_color(mag, r1, r2, table_name):\n",
    "    g_minus_r = mag[:,4]-mag[:,5]\n",
    "    r_minus_z = mag[:,5]-mag[:,7]\n",
    "    plt.figure(figsize=(8,6))\n",
    "    #heights, rmz,gmr = np.histogram2d(r_minus_z,g_minus_r,bins=150)\n",
    "    plt.hist2d(g_minus_r,r_minus_z, bins = 50, cmap='viridis', range=[[r1, 1], [r2, 1]], cmin = 0.1)\n",
    "    plt.xlabel(\"$\\mathrm{g-r}$\", fontsize = 20)\n",
    "    plt.ylabel(\"$\\mathrm{r-z}$\", fontsize = 20)\n",
    "    plt.title(\"Color-Color plot for \" + table_name, fontsize = 20)\n",
    "    plt.colorbar()\n",
    "    plt.grid(b=True, which='both', axis='both')"
   ]
  },
  {
   "cell_type": "code",
   "execution_count": null,
   "metadata": {},
   "outputs": [],
   "source": [
    "def color_density(mag, band1, band2, band3, title):\n",
    "    band_names = ['U', 'B', 'V','K', 'g', 'r', 'i', 'z']\n",
    "    r = mag[:,band1]\n",
    "    r_minus_z = mag[:,band2]-mag[:,band3]\n",
    "    plt.figure(figsize=(8,6))\n",
    "    plt.hist2d(r, r_minus_z, bins = 50, cmap='viridis', cmin=0.1)#, range=[[0, 0.7], [0, 0.8]])\n",
    "    plt.ylabel(band_names[band2]+\"-\"+band_names[band3], fontsize = 20)\n",
    "    plt.xlabel(band_names[band1], fontsize = 20)\n",
    "    plt.title(title, fontsize = 20)\n",
    "    plt.colorbar()"
   ]
  },
  {
   "cell_type": "code",
   "execution_count": null,
   "metadata": {},
   "outputs": [],
   "source": [
    "def galaxy_dist_vs_mass(table, table_name, color, mass_type, mass_show):\n",
    "    \n",
    "    boxsize = header['BoxSize'] #kpc/h\n",
    "    box_bounds = boxsize*np.ones(3)#*conv_fac\n",
    "    dev = table['SubhaloPos']-table['GroupPos']\n",
    " \n",
    "    for ind, q in enumerate(dev.T):\n",
    "        q = np.where(np.abs(q) > 0.5 * box_bounds[ind], box_bounds[ind]-np.abs(q), q)\n",
    "        dev.T[ind] = q\n",
    "    r_subhalo = np.linalg.norm(dev, axis=1)*.001*scale_factor #Mpc/h\n",
    "    \n",
    "    mass = np.array(np.log10(table[mass_type]*1e10))\n",
    "    if(mass_show):\n",
    "        plt.figure(figsize=(8,6))\n",
    "        plt.hist2d(mass, r_subhalo, bins=50, cmap='viridis', cmin=0.1, range=[[9,12.5],[0,4]])\n",
    "        plt.xlabel(mass_type)\n",
    "        plt.ylabel(\"Distance in Mpc/h\")\n",
    "        plt.title(\"Distance of \"  + color + \" \" + table_name + \" from Halo Center vs. Mass.\")\n",
    "        plt.colorbar()\n",
    "        plt.show()\n",
    "    \n",
    "    else:\n",
    "        plt.hist(r_subhalo, bins=50)\n",
    "        plt.title(\"Histogram of \" + color + \" \" + table_name + \" distance from Halo Center\")\n",
    "        plt.xlabel(\"Distance in Mpc/h\")\n",
    "        plt.show()"
   ]
  },
  {
   "cell_type": "code",
   "execution_count": null,
   "metadata": {},
   "outputs": [],
   "source": [
    "def rotation_curve_vs_mass(table, table_name, color, mass_type):\n",
    "    plt.figure(figsize=(8,6))\n",
    "    mass = (np.log10(table[mass_type]*1e10))\n",
    "    plt.hist2d(mass,table['SubhaloVmax'], bins=50, cmap='viridis', cmin=0.1, range=[[9,12.5],[0,800]])\n",
    "    plt.title(\"Mass vs. max of rotation curve for \" + color + \" \" + table_name)\n",
    "    plt.ylabel(\"Max of spherically-averaged rotation curve. (km/s)\", fontsize=14)\n",
    "    plt.xlabel(\"Mass\")\n",
    "    plt.show()"
   ]
  },
  {
   "cell_type": "code",
   "execution_count": null,
   "metadata": {},
   "outputs": [],
   "source": [
    "def peculiar_velocity_vs_mass(table, table_name, color, mass_type):\n",
    "    v=table['SubhaloVel']-table['GroupVel']/scale_factor\n",
    "    velocity = np.sqrt((v[:,0])**2 + (v[:,1])**2 +(v[:,2])**2)\n",
    "    mass = np.array(np.log10(table[mass_type]*1e10))\n",
    "    plt.figure(figsize=(8,6))\n",
    "    plt.hist2d(mass,velocity, bins=50, cmap='viridis', cmin=0.1, range=[[8,12.5],[0,3000]])\n",
    "    plt.title(\"Mass vs. Peculiar velocity \" + color + \" \" + table_name , fontsize=14)\n",
    "    plt.ylabel(\"Peculiar velocity of the subhalo. (km/s)\", fontsize=14)\n",
    "    plt.xlabel(mass_type, fontsize=14)\n",
    "    plt.colorbar()\n",
    "    plt.show()"
   ]
  },
  {
   "cell_type": "code",
   "execution_count": null,
   "metadata": {},
   "outputs": [],
   "source": [
    "def phase_space(table, table_name, color, mass_type):\n",
    "    v=table['SubhaloVel']-table['GroupVel']/scale_factor\n",
    "    boxsize = header['BoxSize'] #kpc/h\n",
    "    box_bounds = boxsize*np.ones(3)#*conv_fac\n",
    "    dev = table['SubhaloPos']-table['GroupPos']\n",
    " \n",
    "    for ind, q in enumerate(dev.T):\n",
    "        q = np.where(np.abs(q) > 0.5 * box_bounds[ind], box_bounds[ind]-np.abs(q), q)\n",
    "        dev.T[ind] = q\n",
    "    \n",
    "    r_subhalo = np.linalg.norm(dev, axis=1)*.001*scale_factor #Mpc/h\n",
    "    dev = dev/(np.linalg.norm(dev, axis=1).reshape(-1,1))\n",
    "    v_rad = np.empty([len(dev)])\n",
    "    \n",
    "    for i in range(0, len(dev)):\n",
    "        v_rad[i]= np.dot(v[i],dev[i])\n",
    "\n",
    "    plt.figure(figsize=(8,6))\n",
    "    plt.hist2d(r_subhalo,v_rad, bins=30, cmap='viridis', cmin=0.1)\n",
    "    plt.title(\"Phase Space \" + color + \" \" + table_name , fontsize=14)\n",
    "    plt.ylabel(\"Radial velocity of the subhalo. (km/s)\", fontsize=14)\n",
    "    plt.xlabel(\"Radius (Mpc/h)\", fontsize=14)\n",
    "    plt.colorbar()\n",
    "    plt.show()\n",
    "    \n",
    "def tangential_v1(table, table_name, color, mass_type):\n",
    "    v=table['SubhaloVel']-table['GroupVel']/scale_factor\n",
    "    boxsize = header['BoxSize'] #kpc/h\n",
    "    box_bounds = boxsize*np.ones(3)#*conv_fac\n",
    "    dev = table['SubhaloPos']-table['GroupPos']\n",
    " \n",
    "    for ind, q in enumerate(dev.T):\n",
    "        q = np.where(np.abs(q) > 0.5 * box_bounds[ind], box_bounds[ind]-np.abs(q), q)\n",
    "        dev.T[ind] = q\n",
    "    \n",
    "    r_subhalo = np.linalg.norm(dev, axis=1)*.001*scale_factor #Mpc/h\n",
    "    dev = dev\n",
    "    v_tan = np.empty([len(dev)])\n",
    "    \n",
    "    for i in range(0, len(dev)):\n",
    "        cross_prod = np.cross(v[i],dev[i])\n",
    "        norm_cross = np.linalg.norm(cross_prod)\n",
    "        v_tan[i]= norm_cross/(np.linalg.norm(dev[i]))\n",
    "\n",
    "    plt.figure(figsize=(8,6))\n",
    "    plt.hist2d(r_subhalo,v_tan, bins=30, cmap='viridis', cmin=0.1)\n",
    "    plt.title(\"Phase Space \" + color + \" \" + table_name , fontsize=14)\n",
    "    plt.ylabel(\"Tangential velocity of the subhalo. (km/s)\", fontsize=14)\n",
    "    plt.xlabel(\"Radius (Mpc/h)\", fontsize=14)\n",
    "    plt.colorbar()\n",
    "    plt.show()"
   ]
  },
  {
   "cell_type": "code",
   "execution_count": null,
   "metadata": {},
   "outputs": [],
   "source": [
    "def cent_acc_vs_rad(table, table_name, color, mass_type):\n",
    "    v=table['SubhaloVel']-table['GroupVel']/scale_factor\n",
    "    boxsize = header['BoxSize'] #kpc/h\n",
    "    box_bounds = boxsize*np.ones(3)#*conv_fac\n",
    "    dev = table['SubhaloPos']-table['GroupPos']\n",
    " \n",
    "    for ind, q in enumerate(dev.T):\n",
    "        q = np.where(np.abs(q) > 0.5 * box_bounds[ind], box_bounds[ind]-np.abs(q), q)\n",
    "        dev.T[ind] = q\n",
    "    \n",
    "    r_subhalo = np.linalg.norm(dev, axis=1)*.001*scale_factor #Mpc\n",
    "    dev = np.linalg.norm(dev, axis=1)\n",
    "    v_sq = (np.linalg.norm(v, axis=1))**2\n",
    "    rad_acc = v_sq/dev\n",
    "    plt.figure(figsize=(8,6))\n",
    "    plt.hist2d(r_subhalo,rad_acc, bins=30, cmap='viridis', cmin=0.1, range=[[0,8],[0,2000]])\n",
    "    plt.title(\"Phase Space \" + color + \" \" + table_name , fontsize=14)\n",
    "    plt.ylabel(\"Radial acceleration of the subhalo. (km/s)\", fontsize=14)\n",
    "    plt.xlabel(\"Radius (Mpc/h)\", fontsize=14)\n",
    "    plt.colorbar()\n",
    "    plt.show()"
   ]
  },
  {
   "cell_type": "code",
   "execution_count": null,
   "metadata": {},
   "outputs": [],
   "source": [
    "arrs = [satellites_red, satellites_green, satellites_blue]\n",
    "color = ['red', 'green', 'blue']\n",
    "for i in range(0,3):\n",
    "    boxsize = header['BoxSize'] #kpc/h\n",
    "    box_bounds = boxsize*np.ones(3)#*conv_fac\n",
    "    dev = arrs[i]['SubhaloPos']-arrs[i]['GroupPos']\n",
    "\n",
    "    for ind, q in enumerate(dev.T):\n",
    "        q = np.where(np.abs(q) > 0.5 * box_bounds[ind], box_bounds[ind]-np.abs(q), q)\n",
    "        dev.T[ind] = q\n",
    "    r_subhalo = np.linalg.norm(dev, axis=1)*.001*scale_factor #Mpc/h\n",
    "\n",
    "    mass = np.array(np.log10(arrs[i][\"StellarMass\"]*1e10))\n",
    "    plt.hist(r_subhalo, bins=50, color=color[i], histtype='step')# , density=True), ('label1', 'label2', 'label3'))\n",
    "    print(\"Mean distance of \" + color[i] + \" galaxies from halo center in Mpc/h: \" + str(np.mean(r_subhalo)))\n",
    "    print(\"Number of subhalos that are \" + color[i] + \": \" +str(len(r_subhalo)) + \"\\n\")\n",
    "    \n",
    "plt.title(\"Histogram of satellite galaxy distance from Halo Center by color.\")\n",
    "plt.xlabel(\"Distance in Mpc/h\")\n",
    "plt.show()"
   ]
  },
  {
   "cell_type": "code",
   "execution_count": null,
   "metadata": {
    "scrolled": false
   },
   "outputs": [],
   "source": [
    "#plot_all_bands(all_galaxies)\n",
    "color_color(all_galaxies['SubhaloStellarPhotometrics'], 0.0, 0.0, \"All Galaxies\")\n",
    "testing = cut_mass_high(all_galaxies, \"StellarMass\", 9)\n",
    "color_color(testing['SubhaloStellarPhotometrics'], 0.0, 0.0, \"Galaxies > 10^9 M_sun\")\n",
    "testing = cut_mass_high(all_galaxies, \"StellarMass\", 10)\n",
    "color_color(testing['SubhaloStellarPhotometrics'], 0.0, 0.0, \"Galaxies > 10^10 M_sun\")\n",
    "testing = cut_mass_high(all_galaxies, \"StellarMass\",11)\n",
    "color_color(testing['SubhaloStellarPhotometrics'], 0.0, 0.0, \"Galaxies > 10^11 M_sun\")"
   ]
  },
  {
   "cell_type": "code",
   "execution_count": null,
   "metadata": {
    "scrolled": true
   },
   "outputs": [],
   "source": [
    "mass_vs_gmr(all_galaxies, \"All Galaxies\", \"StellarMass\")\n",
    "mass_vs_gmr(centrals, \"Central Galaxies\", \"StellarMass\")\n",
    "mass_vs_gmr(satellites, \"Satellites\", \"StellarMass\")\n",
    "mass_vs_gmr(field_galaxies, \"Field\", \"StellarMass\")"
   ]
  },
  {
   "cell_type": "code",
   "execution_count": null,
   "metadata": {
    "scrolled": false
   },
   "outputs": [],
   "source": [
    "gmr_mass_bins_hist(all_galaxies, \"All Galaxies\" ,\"StellarMass\")\n",
    "gmr_mass_bins_hist(satellites, \"Satellite Galaxy\" ,\"StellarMass\")\n",
    "gmr_mass_bins_hist(centrals, \"Centrals\" ,\"StellarMass\")"
   ]
  },
  {
   "cell_type": "code",
   "execution_count": null,
   "metadata": {
    "scrolled": false
   },
   "outputs": [],
   "source": [
    "color_density(all_galaxies['SubhaloStellarPhotometrics'], 5, 4, 5, \"Color vs. Magnitude Plot for all galaxies\")\n",
    "color_density(satellites['SubhaloStellarPhotometrics'], 5, 4, 5, \"Color vs. Magnitude Plot for all satellites\")\n",
    "color_density(centrals['SubhaloStellarPhotometrics'], 5, 4, 5, \"Color vs. Magnitude Plot for Centrals\")\n",
    "color_density(field_galaxies['SubhaloStellarPhotometrics'], 5, 4, 5, \"Color vs. Magnitude Plot for field galaxies\")"
   ]
  },
  {
   "cell_type": "code",
   "execution_count": null,
   "metadata": {},
   "outputs": [],
   "source": [
    "testing = cut_mass_high(all_galaxies, \"SubhaloMassInHalfRad\", 9)\n",
    "color_density(testing['SubhaloStellarPhotometrics'], 5,4, 5, \"Color Magnitude for all galaxies masshalfrad>9\")\n",
    "testing = cut_mass_high(all_galaxies, \"SubhaloMassInHalfRad\", 9.5)\n",
    "color_density(testing['SubhaloStellarPhotometrics'], 5,4, 5, \"Color Magnitude for all galaxies masshalfrad>9.5\")\n",
    "testing = cut_mass_high(all_galaxies, \"SubhaloMassInHalfRad\", 10.5)\n",
    "color_density(testing['SubhaloStellarPhotometrics'], 5,4, 5, \"Color Magnitude for all galaxies masshalfrad>10.5\")\n",
    "testing = cut_mass_high(all_galaxies, \"SubhaloMassInHalfRad\", 11)\n",
    "color_density(testing['SubhaloStellarPhotometrics'], 5,4, 5, \"Color Magnitude for all galaxies masshalfrad>11\")"
   ]
  },
  {
   "cell_type": "code",
   "execution_count": null,
   "metadata": {
    "scrolled": false
   },
   "outputs": [],
   "source": [
    "formation_rate_vs_gmr(all_galaxies, \"All Galaxies\")\n",
    "formation_rate_vs_gmr(satellites, \"Satellites\")\n",
    "formation_rate_vs_gmr(centrals, \"Central Galaxies\")\n",
    "formation_rate_vs_gmr(field_galaxies, \"Field Galaxies\")"
   ]
  },
  {
   "cell_type": "code",
   "execution_count": null,
   "metadata": {},
   "outputs": [],
   "source": [
    "testing = cut_mass_high(centrals_in_cluster, \"SubhaloMassInHalfRad\", 9.4)\n",
    "formation_rate_vs_gmr(testing, \"Central Galaxies in Clusters, mass>10^9.4\")"
   ]
  },
  {
   "cell_type": "code",
   "execution_count": null,
   "metadata": {
    "scrolled": false
   },
   "outputs": [],
   "source": [
    "hydrogen_rate_vs_gmr(all_galaxies, \"All Galaxies\")\n",
    "hydrogen_rate_vs_gmr(satellites, \"Satellites\")\n",
    "hydrogen_rate_vs_gmr(centrals, \"Central Galaxies\")\n",
    "hydrogen_rate_vs_gmr(field_galaxies, \"Field Galaxies\")"
   ]
  },
  {
   "cell_type": "code",
   "execution_count": null,
   "metadata": {},
   "outputs": [],
   "source": [
    "testing = cut_mass_high(centrals_in_cluster, \"SubhaloMassInHalfRad\", 10)\n",
    "hydrogen_rate_vs_gmr(testing, \"Central Galaxies in Clusters, mass>10^10\")"
   ]
  },
  {
   "cell_type": "code",
   "execution_count": null,
   "metadata": {
    "scrolled": false
   },
   "outputs": [],
   "source": [
    "helium_rate_vs_gmr(all_galaxies, \"All Galaxies\")\n",
    "helium_rate_vs_gmr(satellites, \"Satellites\")\n",
    "helium_rate_vs_gmr(centrals_in_cluster, \"Central Galaxies in Clusters\")\n",
    "helium_rate_vs_gmr(field_galaxies, \"Field Galaxies\")"
   ]
  },
  {
   "cell_type": "code",
   "execution_count": null,
   "metadata": {
    "scrolled": false
   },
   "outputs": [],
   "source": [
    "mag = centrals_in_cluster['SubhaloStellarPhotometrics'][:,4] - centrals_in_cluster['SubhaloStellarPhotometrics'][:,5]\n",
    "to_send = centrals_in_cluster[mag>0.55] \n",
    "element_rate_vs_mass(to_send, \"Red Central Galaxies in Clusters\", \"StellarMass\")\n",
    "to_send = centrals_in_cluster[mag<0.55] \n",
    "element_rate_vs_mass(to_send, \"Blue Central Galaxies in Clusters\", \"StellarMass\")"
   ]
  },
  {
   "cell_type": "code",
   "execution_count": null,
   "metadata": {
    "scrolled": false
   },
   "outputs": [],
   "source": [
    "formation_rate_vs_mass(all_galaxies, \"All Galaxies\" ,\"StellarMass\")\n",
    "formation_rate_vs_mass(centrals_in_cluster, \"Central Galaxies in Clusters\" ,\"StellarMass\")\n",
    "formation_rate_vs_mass(satellites, \"Satellites\" ,\"StellarMass\")\n",
    "formation_rate_vs_mass(field_galaxies, \"Field Galaxies\" ,\"StellarMass\")"
   ]
  },
  {
   "cell_type": "code",
   "execution_count": null,
   "metadata": {},
   "outputs": [],
   "source": [
    "metallicity_vs_gmr(all_galaxies, \"All Galaxies\")\n",
    "metallicity_vs_gmr(satellites, \"Satellites\")\n",
    "metallicity_vs_gmr(centrals_in_cluster, \"Central Galaxies in Clusters\")\n",
    "metallicity_vs_gmr(field_galaxies, \"Field Galaxies\")"
   ]
  },
  {
   "cell_type": "code",
   "execution_count": null,
   "metadata": {
    "scrolled": false
   },
   "outputs": [],
   "source": [
    "rotation_curve_vs_mass(satellites_red, \"Satellite Galaxies\", \"red\", \"StellarMass\")\n",
    "rotation_curve_vs_mass(satellites_green, \"Satellite Galaxies\", \"green\", \"StellarMass\")\n",
    "rotation_curve_vs_mass(satellites_blue, \"Satellite Galaxies\", \"blue\", \"StellarMass\")\n",
    "\n",
    "rotation_curve_vs_mass(centrals_red, \"Central Galaxies\", \"red\", \"StellarMass\")\n",
    "rotation_curve_vs_mass(centrals_green, \"Central Galaxies\", \"green\", \"StellarMass\")\n",
    "rotation_curve_vs_mass(centrals_blue, \"Central Galaxies\", \"blue\", \"StellarMass\")"
   ]
  },
  {
   "cell_type": "code",
   "execution_count": null,
   "metadata": {
    "scrolled": false
   },
   "outputs": [],
   "source": [
    "peculiar_velocity_vs_mass(satellites_red, \"Satellite Galaxies\", \"red\", \"StellarMass\")\n",
    "peculiar_velocity_vs_mass(satellites_green, \"Satellite Galaxies\", \"green\", \"StellarMass\")\n",
    "peculiar_velocity_vs_mass(satellites_blue, \"Satellite Galaxies\", \"blue\", \"StellarMass\")"
   ]
  },
  {
   "cell_type": "code",
   "execution_count": null,
   "metadata": {
    "scrolled": false
   },
   "outputs": [],
   "source": [
    "phase_space(satellites, \"Satellite Galaxies\", \"all\", \"StellarMass\")\n",
    "phase_space(satellites_red, \"Satellite Galaxies\", \"red\", \"StellarMass\")\n",
    "phase_space(satellites_green, \"Satellite Galaxies\", \"green\", \"StellarMass\")\n",
    "phase_space(satellites_blue, \"Satellite Galaxies\", \"blue\", \"StellarMass\")"
   ]
  },
  {
   "cell_type": "code",
   "execution_count": null,
   "metadata": {},
   "outputs": [],
   "source": [
    "tangential_v2(satellites, \"Satellite Galaxies\", \"all\", \"StellarMass\")\n",
    "tangential_v2(satellites_red, \"Satellite Galaxies\", \"red\", \"StellarMass\")\n",
    "tangential_v2(satellites_green, \"Satellite Galaxies\", \"green\", \"StellarMass\")\n",
    "tangential_v2(satellites_blue, \"Satellite Galaxies\", \"blue\", \"StellarMass\")"
   ]
  },
  {
   "cell_type": "code",
   "execution_count": null,
   "metadata": {},
   "outputs": [],
   "source": [
    "tangential_v1(satellites, \"Satellite Galaxies\", \"all\", \"StellarMass\")\n",
    "tangential_v1(satellites_red, \"Satellite Galaxies\", \"red\", \"StellarMass\")\n",
    "tangential_v1(satellites_green, \"Satellite Galaxies\", \"green\", \"StellarMass\")\n",
    "tangential_v1(satellites_blue, \"Satellite Galaxies\", \"blue\", \"StellarMass\")"
   ]
  },
  {
   "cell_type": "code",
   "execution_count": null,
   "metadata": {
    "scrolled": false
   },
   "outputs": [],
   "source": [
    "cent_acc_vs_rad(satellites, \"Satellite Galaxies\", \"all\", \"StellarMass\")\n",
    "cent_acc_vs_rad(satellites_red, \"Satellite Galaxies\", \"red\", \"StellarMass\")\n",
    "cent_acc_vs_rad(satellites_green, \"Satellite Galaxies\", \"green\", \"StellarMass\")\n",
    "cent_acc_vs_rad(satellites_blue, \"Satellite Galaxies\", \"blue\", \"StellarMass\")"
   ]
  },
  {
   "cell_type": "code",
   "execution_count": null,
   "metadata": {},
   "outputs": [],
   "source": []
  }
 ],
 "metadata": {
  "kernelspec": {
   "display_name": "Python 3",
   "language": "python",
   "name": "python3"
  },
  "language_info": {
   "codemirror_mode": {
    "name": "ipython",
    "version": 3
   },
   "file_extension": ".py",
   "mimetype": "text/x-python",
   "name": "python",
   "nbconvert_exporter": "python",
   "pygments_lexer": "ipython3",
   "version": "3.8.2"
  }
 },
 "nbformat": 4,
 "nbformat_minor": 4
}
