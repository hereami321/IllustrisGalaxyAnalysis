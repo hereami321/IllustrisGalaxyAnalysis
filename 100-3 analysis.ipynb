{
 "cells": [
  {
   "cell_type": "code",
   "execution_count": 1,
   "metadata": {},
   "outputs": [],
   "source": [
    "#Imports\n",
    "import illustris_python as il\n",
    "import numpy as np\n",
    "import matplotlib.pyplot as plt \n",
    "import scipy\n",
    "from astropy.table import Table"
   ]
  },
  {
   "cell_type": "code",
   "execution_count": 3,
   "metadata": {
    "scrolled": false
   },
   "outputs": [],
   "source": [
    "\"\"\"\n",
    "Loading TNG 100-3\n",
    "\"\"\"\n",
    "\n",
    "basePath = 'D:/Buhv2020Work/Illustris-3/output'\n",
    "snapshot_ind = 99 #redshift ?\n",
    "\n",
    "#Header gives basic group info\n",
    "header = il.groupcat.loadHeader(basePath, snapshot_ind)\n",
    "#Scale Factor\n",
    "scale_factor = header['Time']\n",
    "\n",
    "#Load in the subhalo/halo tables\n",
    "subhalo_grp = il.groupcat.loadSubhalos(basePath, snapshot_ind)\n",
    "halo_grp = il.groupcat.loadHalos(basePath, snapshot_ind)\n",
    "\n",
    "#Get the keys for each\n",
    "subhalo_keys = (list(subhalo_grp.keys()))\n",
    "halo_keys = (list(halo_grp.keys()))\n",
    "\n",
    "#Index the table\n",
    "subhalo_table = Table({'Index': [x+1 for x in range(subhalo_grp['count'])]})\n",
    "#Tabulate the subhalo info\n",
    "for i in range(1, len(subhalo_keys)):\n",
    "    subhalo_table.add_column(subhalo_grp[str(subhalo_keys[i])], name=str(subhalo_keys[i]))\n",
    "\n",
    "#Tabulate the halo info\n",
    "halo_table = Table({'Index': [x+1 for x in range(halo_grp['count'])]})\n",
    "for i in range(1, len(halo_keys)):\n",
    "    halo_table.add_column(halo_grp[str(halo_keys[i])], name=str(halo_keys[i]))\n",
    "    \n",
    "    subhalo_data = [0] * len(subhalo_table)\n",
    "    for j in range(0, len(subhalo_table)):\n",
    "        subhalo_data[j] = halo_table[halo_keys[i]][subhalo_table['SubhaloGrNr'][j]]\n",
    "    subhalo_table.add_column(subhalo_data,name=str(halo_keys[i]))\n",
    "\n",
    "is_central = np.array([0] * len(subhalo_table), dtype=bool)\n",
    "temp = halo_table['GroupFirstSub']>-1\n",
    "is_central[halo_table[temp]['GroupFirstSub']]=True\n",
    "subhalo_table.add_column(is_central,name=str(\"IsCentral\"))\n",
    "subhalo_table.add_column(subhalo_table[\"SubhaloMassInHalfRadType\"][:,4], name=str(\"StellarMassHalfRad\"))\n",
    "subhalo_table.add_column(subhalo_table[\"SubhaloMassType\"][:,4], name=str(\"StellarMass\"))\n"
   ]
  },
  {
   "cell_type": "code",
   "execution_count": 8,
   "metadata": {},
   "outputs": [],
   "source": [
    "def cut_color_lines(table, min_gmr, max_gmr):\n",
    "    mag = table['SubhaloStellarPhotometrics']\n",
    "    gmr_cut_low = (mag[:,4]-mag[:,5]) > min_gmr\n",
    "    gmr_cut_high = (mag[:,4]-mag[:,5])< max_gmr\n",
    "    return  table[gmr_cut_low & gmr_cut_high]\n",
    "\n",
    "def cut_color_squares(table, min_gmr, max_gmr, min_rmz, max_rmz):\n",
    "    #0.46, 0.34 min_gmr and max_rmz for my original \"blue\"\n",
    "    #0.66, 0.52 min_gmr and min_rmz for my original \"red\"\n",
    "    mag = table['SubhaloStellarPhotometrics']\n",
    "    gmr_cut_low = (mag[:,4]-mag[:,5]) > min_gmr\n",
    "    gmr_cut_high = (mag[:,4]-mag[:,5])< max_gmr\n",
    "    rmz_cut_low = (mag[:,5]-mag[:,7])> min_rmz\n",
    "    rmz_cut_high = (mag[:,5]-mag[:,7]) < max_rmz\n",
    "    return table[gmr_cut_low & gmr_cut_high & rmz_cut_low & rmz_cut_high]"
   ]
  },
  {
   "cell_type": "code",
   "execution_count": 28,
   "metadata": {},
   "outputs": [
    {
     "name": "stdout",
     "output_type": "stream",
     "text": [
      "118820\n",
      "21661\n",
      "Masking step 1 - remove bad subhalos - complete \n",
      "\n",
      "Central galaxies: 13542\n",
      "Satellite galaxies: 8119\n",
      "Central galaxies that are not alone in their halo: 4491\n",
      "Field Galaxies: 9051\n",
      "Masking step 2 - separate all centrals, satellites, and centrals with satellites in same halo, complete \n",
      "\n",
      "Central galaxies red: 2098\n",
      "Central galaxies blue: 7239\n",
      "Satellite galaxies red: 2535\n",
      "Satellite galaxies blue: 3292\n",
      "Central galaxies that are not alone in their halo red: 1179\n",
      "Central galaxies that are not alone in their halo blue: 2200\n",
      "Field Galaxies red: 919\n",
      "Field Galaxies blue: 5039\n",
      "Masking step 3 - color bimodality for each type of galaxy, complete \n",
      "\n"
     ]
    }
   ],
   "source": [
    "print(len(subhalo_table))\n",
    "all_galaxies = subhalo_table[subhalo_table['SubhaloFlag']]\n",
    "all_galaxies = all_galaxies[all_galaxies['SubhaloMass']!=0]\n",
    "all_galaxies = all_galaxies[all_galaxies['SubhaloMassType'][:,4]!=0]\n",
    "print(len(all_galaxies))\n",
    "print('Masking step 1 - remove bad subhalos - complete \\n')\n",
    "\n",
    "centrals = all_galaxies[all_galaxies['IsCentral']]\n",
    "satellites = all_galaxies[np.bitwise_not(all_galaxies['IsCentral'])]\n",
    "centrals_in_cluster = centrals[centrals['GroupNsubs']>1]\n",
    "field_galaxies = centrals[centrals['GroupNsubs']<=1]\n",
    "print(\"Central galaxies: \" + str(len(centrals)))\n",
    "print(\"Satellite galaxies: \" + str(len(satellites)))\n",
    "print(\"Central galaxies that are not alone in their halo: \" + str(len(centrals_in_cluster)))\n",
    "print(\"Field Galaxies: \" + str(len(field_galaxies)))\n",
    "print(\"Masking step 2 - separate all centrals, satellites, and centrals with satellites in same halo, complete \\n\")\n",
    "\n",
    "centrals_red = cut_color_lines(centrals, 0.6, 1000)\n",
    "centrals_blue = cut_color_lines(centrals, 0, 0.5)\n",
    "\n",
    "satellites_red = cut_color_lines(satellites, 0.6, 1000)\n",
    "satellites_blue = cut_color_lines(satellites, 0, 0.5)\n",
    "\n",
    "centrals_in_cluster_red = cut_color_lines(centrals_in_cluster, 0.6, 1000)\n",
    "centrals_in_cluster_blue = cut_color_lines(centrals_in_cluster, 0, 0.5)\n",
    "\n",
    "field_galaxies_red = cut_color_lines(field_galaxies, 0.6, 1000)\n",
    "field_galaxies_blue = cut_color_lines(field_galaxies, 0, 0.5)\n",
    "\n",
    "print(\"Central galaxies red: \" + str(len(centrals_red)))\n",
    "print(\"Central galaxies blue: \" + str(len(centrals_blue)))\n",
    "\n",
    "print(\"Satellite galaxies red: \" + str(len(satellites_red)))\n",
    "print(\"Satellite galaxies blue: \" + str(len(satellites_blue)))\n",
    "\n",
    "print(\"Central galaxies that are not alone in their halo red: \" + str(len(centrals_in_cluster_red)))\n",
    "print(\"Central galaxies that are not alone in their halo blue: \" + str(len(centrals_in_cluster_blue)))\n",
    "\n",
    "print(\"Field Galaxies red: \" + str(len(field_galaxies_red)))\n",
    "print(\"Field Galaxies blue: \" + str(len(field_galaxies_blue)))\n",
    "\n",
    "print(\"Masking step 3 - color bimodality for each type of galaxy, complete \\n\")\n",
    "\n",
    "#Compare particle numbers between central solitaries "
   ]
  },
  {
   "cell_type": "code",
   "execution_count": 30,
   "metadata": {},
   "outputs": [
    {
     "name": "stdout",
     "output_type": "stream",
     "text": [
      "Difference between average halo particle numbers and subhalo particle numbers (stellar particles)\n",
      "0.04308916141862795\n",
      "Mean number of stellar halo particles\n",
      "17.5738592420727\n"
     ]
    }
   ],
   "source": [
    "print(\"Difference between average halo particle numbers and subhalo particle numbers (stellar particles)\")\n",
    "print(np.mean(field_galaxies['GroupLenType'][:,4])-np.mean(field_galaxies['SubhaloLenType'][:,4]))\n",
    "print(\"Mean number of stellar halo particles\")\n",
    "print(np.mean(field_galaxies['GroupLenType'][:,4]))"
   ]
  },
  {
   "cell_type": "code",
   "execution_count": 10,
   "metadata": {},
   "outputs": [],
   "source": [
    "#Overall bands plot\n",
    "def plot_all_bands(table):\n",
    "    subhalomass = np.array(np.log10(table[\"SubhaloMassInHalfRad\"]*1e10/0.704))\n",
    "    mask = subhalomass > 10.3\n",
    "    st = table[mask]\n",
    "\n",
    "    fig, ax = plt.subplots(4,2)\n",
    "    fig.set_size_inches(16,20)\n",
    "    plt.subplots_adjust(hspace = 0.5)\n",
    "    band_names = ['U', 'B', 'V','K', 'g', 'r', 'i', 'z']\n",
    "    for bands in range(8):\n",
    "        mag = st['SubhaloStellarPhotometrics'][:,bands]\n",
    "        ax[bands%4][bands//4].hist(mag, bins=50)\n",
    "        ax[bands%4][bands//4].set_xlabel('magnitude in ' + band_names[bands] + \" band\", fontsize = 16 )\n",
    "        ax[bands%4][bands//4].set_ylabel('count', fontsize = 16)\n",
    "\n",
    "    plt.show()"
   ]
  },
  {
   "cell_type": "code",
   "execution_count": 11,
   "metadata": {},
   "outputs": [],
   "source": [
    "def mass_vs_gmr(table, table_name, mass_type):\n",
    "    #Recreating Figure 3 from https://arxiv.org/pdf/1707.03395.pdf\n",
    "    mag = table['SubhaloStellarPhotometrics'][:,4] - table['SubhaloStellarPhotometrics'][:,5]\n",
    "\n",
    "    mass = np.array(np.log10(table[mass_type]*1e10/0.704))\n",
    "    plt.ylabel(\"$\\mathrm{g-r}$\", fontsize = 20)\n",
    "    plt.xlabel(\"Mass\", fontsize = 20)\n",
    "    plt.title(table_name)\n",
    "\n",
    "    #heights, mass_bins, mag_bins = np.histogram2d(mass, mag, bins=50)\n",
    "    #plt.contour(mass_bins[0:50],mag_bins[0:50], heights, colors=['red','orange','pink','green'])\n",
    "    plt.hist2d(mass, mag, bins=100, cmap='viridis', range=[[9,12], [0,1]])\n",
    "    plt.show()"
   ]
  },
  {
   "cell_type": "code",
   "execution_count": 12,
   "metadata": {},
   "outputs": [],
   "source": [
    "def gmr_mass_bins_hist(table, mass_type):\n",
    "    bins = [9.0,9.5,10.0,10.5,11.0,11.5,12.0]\n",
    "    fig, ax = plt.subplots(2,3)\n",
    "    fig.set_size_inches(18,11)\n",
    "    for i in range(0,6):\n",
    "        s1 = cut_mass_high(table, mass_typemass_type, bins[i])\n",
    "        s2 = cut_mass_low(table, mass_type, bins[i+1])\n",
    "        subhalomass = np.array(np.log10(s1[mass_type]*1e10/0.704))\n",
    "        mask2 = subhalomass[:,4] < bins[i+1]\n",
    "        s2 = s1[mask2]\n",
    "\n",
    "        mag = s2['SubhaloStellarPhotometrics'][:,4] - s2['SubhaloStellarPhotometrics'][:,5]\n",
    "        ax[i//3][i%3].hist(mag, bins=50) #, density=True)\n",
    "        ax[i//3][i%3].set_title(\"Mass bin: \"+str(bins[i])+\"-\"+str(bins[i+1]))\n",
    "        ax[i//3][i%3].set_xlabel('magnitude in g-r band', fontsize = 16 )\n",
    "        ax[i//3][i%3].set_ylabel('count', fontsize = 16)"
   ]
  },
  {
   "cell_type": "code",
   "execution_count": 13,
   "metadata": {},
   "outputs": [],
   "source": [
    "def color_color(mag, r1, r2):\n",
    "    g_minus_r = mag[:,4]-mag[:,5]\n",
    "    r_minus_z = mag[:,5]-mag[:,7]\n",
    "    plt.figure(figsize=(12,10))\n",
    "    #heights, rmz,gmr = np.histogram2d(r_minus_z,g_minus_r,bins=150)\n",
    "    plt.hist2d(g_minus_r,r_minus_z, bins = 150, cmap='viridis', range=[[r1, 1], [r2, 1]], cmin = 0.1)\n",
    "    plt.xlabel(\"$\\mathrm{g-r}$\", fontsize = 20)\n",
    "    plt.ylabel(\"$\\mathrm{r-z}$\", fontsize = 20)\n",
    "    plt.title(\"Color-Color plane plot\", fontsize = 20)\n",
    "    plt.colorbar()\n",
    "    plt.grid(b=True, which='both', axis='both')\n",
    "    #print(len(g_minus_r))\n",
    "    #print(str(len(g_minus_r[g_minus_r>0.5])) + \"\\n\")\n",
    "    #levels = np.linspace(0, 40,num=4)\n",
    "    #plt.contour(gmr[0:150],rmz[0:150], heights, levels=levels, \n",
    "                #extent=[0,0,0.8,0.7], colors=['red','orange','pink','green'])"
   ]
  },
  {
   "cell_type": "code",
   "execution_count": 14,
   "metadata": {},
   "outputs": [],
   "source": [
    "def cut_mass_high(table, field, num):\n",
    "    if(field == \"SubhaloMassType\" or field == \"SubhaloMassInRadType\"):\n",
    "        subhalomass = np.array(np.log10(table[field][:,4]*1e10/0.704))\n",
    "        mask = subhalomass > num\n",
    "        return table[mask]\n",
    "    else:\n",
    "        subhalomass = np.array(np.log10(table[field]*1e10/0.704))\n",
    "        mask = subhalomass > num\n",
    "        return table[mask]\n",
    "\n",
    "def cut_mass_low(table, field, num):\n",
    "    if(field == \"SubhaloMassType\" or field == \"SubhaloMassInRadType\"):\n",
    "        subhalomass = np.array(np.log10(table[field][:,4]*1e10/0.704))\n",
    "        mask = subhalomass < num\n",
    "        return table[mask]\n",
    "    else:\n",
    "        subhalomass = np.array(np.log10(table[field]*1e10/0.704))\n",
    "        mask = subhalomass < num\n",
    "        return table[mask]"
   ]
  },
  {
   "cell_type": "code",
   "execution_count": 15,
   "metadata": {},
   "outputs": [],
   "source": [
    "def color_density(mag, band1, band2, band3, title):\n",
    "    band_names = ['U', 'B', 'V','K', 'g', 'r', 'i', 'z']\n",
    "    r = mag[:,band1]\n",
    "    r_minus_z = mag[:,band2]-mag[:,band3]\n",
    "    plt.figure(figsize=(8,6))\n",
    "    plt.hist2d(r, r_minus_z, bins = 80, cmap='viridis')#, range=[[0, 0.7], [0, 0.8]])\n",
    "    plt.ylabel(band_names[band2]+\"-\"+band_names[band3], fontsize = 20)\n",
    "    plt.xlabel(band_names[band1], fontsize = 20)\n",
    "    plt.title(title, fontsize = 20)\n",
    "    plt.colorbar()"
   ]
  },
  {
   "cell_type": "code",
   "execution_count": null,
   "metadata": {},
   "outputs": [],
   "source": [
    "def galaxy_dist_vs_mass(table, table_name, color, mass_type):\n",
    "    d = table['SubhaloPos']-table['GroupPos']\n",
    "    dist = np.sqrt((d[0]/0.7)**2 + (d[1]/0.7)**2 +(d[2]/0.7)**2)\n",
    "    mass = np.array(np.log10(table[mass_type]*1e10/0.704))\n",
    "    plt.figure(figsize=(8,6))\n",
    "    plt.scatter(mass, dist, s=2, color='red')\n",
    "    plt.xlabel(\"Subhalo Mass in Half Rad\")\n",
    "    plt.ylabel(\"Distance in ckpc\")\n",
    "    plt.title(\"Distance of \" + table_name + \" from Halo Center vs. Mass.\" + \"RED\")\n",
    "    plt.show()"
   ]
  },
  {
   "cell_type": "code",
   "execution_count": null,
   "metadata": {},
   "outputs": [],
   "source": [
    "def rotation_curve_vs_mass(table, table_name, color, mass_type):\n",
    "    plt.figure(figsize=(10,8))\n",
    "    mass = (np.log10(table[mass_type]*1e10/0.704))\n",
    "    plt.scatter(table['SubhaloVmax'], mass, s=1.5)\n",
    "    plt.title(\"Mass vs. max of rotation curve for \" + color + \" \" + table_name)\n",
    "    plt.xlabel(\"Maximum value of the spherically-averaged rotation curve. (km/s)\", fontsize=14)\n",
    "    plt.ylabel(\"Mass\")\n",
    "    plt.show()"
   ]
  },
  {
   "cell_type": "code",
   "execution_count": null,
   "metadata": {},
   "outputs": [],
   "source": [
    "def peculiar_velocity_vs_mass(table, table_name, color, mass_type):\n",
    "    pec_vel_red = []\n",
    "    mass_red=[]\n",
    "    v=table['SubhaloVel'][i]-table['GroupVel']/scale_factor\n",
    "    velocity = np.sqrt((v[0])**2 + (v[1])**2 +(v[2])**2)\n",
    "    mass = np.array((np.log10(table[mass_type][i]*1e10/0.704)))\n",
    "\n",
    "    plt.figure(figsize=(8,6))\n",
    "    plt.scatter(mass_blue,pec_vel_blue, s=1.5, color = \"blue\")\n",
    "    plt.title(\"Mass vs. Peculiar velocity of the group - blue\", fontsize=14)\n",
    "    plt.ylabel(\"Peculiar velocity of the group. (km/s)\", fontsize=14)\n",
    "    plt.xlabel(\"Mass\", fontsize=14)\n",
    "    plt.show()\n"
   ]
  },
  {
   "cell_type": "code",
   "execution_count": null,
   "metadata": {},
   "outputs": [],
   "source": []
  },
  {
   "cell_type": "code",
   "execution_count": null,
   "metadata": {
    "scrolled": false
   },
   "outputs": [],
   "source": [
    "plot_all_bands(all_galaxies)\n",
    "mass_vs_gmr(all_galaxies)\n",
    "gmr_mass_bins_hist(all_galaxies)\n",
    "color_color(all_galaxies['SubhaloStellarPhotometrics'], 0.0, 0.0)\n",
    "color_density(all_galaxies['SubhaloStellarPhotometrics'], 5,4, 5, \"Color Density Plot for all galaxies\")\n",
    "\n"
   ]
  },
  {
   "cell_type": "code",
   "execution_count": null,
   "metadata": {},
   "outputs": [],
   "source": [
    "testing = cut_mass_high(all_galaxies, \"SubhaloMassInHalfRad\", 9)\n",
    "color_density(testing['SubhaloStellarPhotometrics'], 5,4, 5, \"Color Density Plot for all galaxies\")\n",
    "testing = cut_mass_high(all_galaxies, \"SubhaloMassInHalfRad\", 9.5)\n",
    "color_density(testing['SubhaloStellarPhotometrics'], 5,4, 5, \"Color Density Plot for all galaxies\")\n",
    "# I-band magnitude 19.9\n",
    "testing = cut_mass_high(all_galaxies, \"SubhaloMassInHalfRad\", 10.5)\n",
    "color_density(testing['SubhaloStellarPhotometrics'], 5,4, 5, \"Color Density Plot for all galaxies\")\n",
    "testing = cut_mass_high(all_galaxies, \"SubhaloMassInHalfRad\", 11)\n",
    "color_density(testing['SubhaloStellarPhotometrics'], 5,4, 5, \"Color Density Plot for all galaxies\")"
   ]
  },
  {
   "cell_type": "code",
   "execution_count": null,
   "metadata": {},
   "outputs": [],
   "source": [
    "#Color-evolution\n",
    "#Color-magnitude"
   ]
  }
 ],
 "metadata": {
  "kernelspec": {
   "display_name": "Python 3",
   "language": "python",
   "name": "python3"
  },
  "language_info": {
   "codemirror_mode": {
    "name": "ipython",
    "version": 3
   },
   "file_extension": ".py",
   "mimetype": "text/x-python",
   "name": "python",
   "nbconvert_exporter": "python",
   "pygments_lexer": "ipython3",
   "version": "3.7.3"
  }
 },
 "nbformat": 4,
 "nbformat_minor": 4
}
