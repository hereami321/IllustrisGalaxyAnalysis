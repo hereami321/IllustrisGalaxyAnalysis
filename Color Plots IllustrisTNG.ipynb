{
 "cells": [
  {
   "cell_type": "code",
   "execution_count": 1,
   "metadata": {},
   "outputs": [],
   "source": [
    "#Imports\n",
    "import illustris_python as il\n",
    "import numpy as np\n",
    "import matplotlib.pyplot as plt \n",
    "import scipy\n",
    "from astropy.table import Table"
   ]
  },
  {
   "cell_type": "code",
   "execution_count": 20,
   "metadata": {},
   "outputs": [
    {
     "name": "stdout",
     "output_type": "stream",
     "text": [
      "SubhaloBHMass SubhaloBHMdot SubhaloBfldDisk ... SubhaloVmaxRad SubhaloWindMass\n",
      "------------- ------------- --------------- ... -------------- ---------------\n",
      "    0.5461563  0.0001752415       1.3133273 ...     0.45412743             0.0\n",
      "   0.06852861   8.32275e-06      0.43134525 ...      406.10217     0.020611573\n",
      "    0.0919097 3.3073068e-06      0.79280484 ...      86.648926             0.0\n",
      "  0.013894003 1.4912185e-06      0.18008178 ...       86.40408             0.0\n",
      "  0.018573625 3.4303328e-06       0.6163374 ...       52.58877             0.0\n",
      "  0.030862555  3.404339e-07      0.16656737 ...      69.725365             0.0\n",
      "  0.034261532  9.568804e-08             nan ...      34.343544             0.0\n",
      "   0.02224398 3.1020534e-08             nan ...      18.122778             0.0\n",
      "  0.026178064 4.1973244e-08             nan ...         5.1229             0.0\n",
      "  0.029950006 1.9020027e-07             nan ...      23.927391             0.0\n",
      "          ...           ...             ... ...            ...             ...\n",
      "          0.0           0.0             nan ...       8.350916             0.0\n",
      "          0.0           0.0             nan ...      41.737583             0.0\n",
      "          0.0           0.0             nan ...      34.229164             0.0\n",
      "          0.0           0.0             nan ...      14.851449             0.0\n",
      "          0.0           0.0             nan ...      18.130728             0.0\n",
      "          0.0           0.0             nan ...      10.717632             0.0\n",
      "          0.0           0.0             nan ...      53.025665             0.0\n",
      "          0.0           0.0             nan ...      26.484402             0.0\n",
      "          0.0           0.0             nan ...      39.054634             0.0\n",
      "          0.0           0.0             nan ...       10.75754             0.0\n",
      "          0.0           0.0             nan ...      13.493143             0.0\n",
      "Length = 118820 rows\n",
      "GroupBHMass  GroupBHMdot  ... Group_R_Mean200 Group_R_TopHat200\n",
      "----------- ------------- ... --------------- -----------------\n",
      "  1.0840136  0.0016966036 ...       1707.1765         1382.2296\n",
      " 0.88227594  8.517182e-05 ...       1718.3918          1418.246\n",
      "  0.8062151  0.0010074606 ...       1606.5414         1317.5482\n",
      "  0.8082838 0.00041996117 ...       1389.1453         1067.0038\n",
      " 0.58842605   0.003504681 ...       1448.9478         1199.9553\n",
      " 0.83816266  0.0040895496 ...       1373.2401         1108.9261\n",
      " 0.66413313 0.00014650081 ...       1375.1593         1112.8171\n",
      "   0.455683   0.003442113 ...        1399.024          1137.438\n",
      "  0.5494246  0.0037096622 ...        1112.787          859.9509\n",
      "   0.590434 0.00022408037 ...       1409.1058          1147.845\n",
      "        ...           ... ...             ...               ...\n",
      "        0.0           0.0 ...       46.501076         32.138298\n",
      "        0.0           0.0 ...       45.764294         35.968887\n",
      "        0.0           0.0 ...        51.97238         43.921703\n",
      "        0.0           0.0 ...       44.197598         36.690773\n",
      "        0.0           0.0 ...             0.0               0.0\n",
      "        0.0           0.0 ...       49.157738          39.80667\n",
      "        0.0           0.0 ...       37.815857         29.034485\n",
      "        0.0           0.0 ...        47.25308         38.657322\n",
      "        0.0           0.0 ...       47.762592          38.00378\n",
      "        0.0           0.0 ...        39.04213         28.155031\n",
      "        0.0           0.0 ...        42.47079         31.958233\n",
      "Length = 124773 rows\n"
     ]
    }
   ],
   "source": [
    "#Load TNG\n",
    "basePath = 'D:/Buhv2020Work/Illustris-3/output'\n",
    "snapshot_ind = 99 #redshift 0\n",
    "\n",
    "subhalo_grp = il.groupcat.loadSubhalos(basePath, snapshot_ind)\n",
    "halo_grp = il.groupcat.loadHalos(basePath, snapshot_ind)\n",
    "\n",
    "subhalo_keys = (list(subhalo_grp.keys()))\n",
    "halo_keys = (list(halo_grp.keys()))\n",
    "\n",
    "subhalo_table = Table({'SubhaloBHMass': subhalo_grp['SubhaloBHMass']})\n",
    "for i in range(2, len(subhalo_keys)):\n",
    "    subhalo_table.add_column(subhalo_grp[str(subhalo_keys[i])], name=str(subhalo_keys[i]))\n",
    "    \n",
    "halo_table = Table({'GroupBHMass': halo_grp['GroupBHMass']})\n",
    "for i in range(2, len(halo_keys)):\n",
    "    halo_table.add_column(halo_grp[str(halo_keys[i])], name=str(halo_keys[i]))\n",
    "\n",
    "print(subhalo_table)\n",
    "print(halo_table)"
   ]
  },
  {
   "cell_type": "code",
   "execution_count": 14,
   "metadata": {},
   "outputs": [
    {
     "data": {
      "text/plain": [
       "<TableColumns names=('SubhaloBHMass','SubhaloBHMdot','SubhaloBfldDisk','SubhaloBfldHalo','SubhaloCM','SubhaloFlag','SubhaloGasMetalFractions','SubhaloGasMetalFractionsHalfRad','SubhaloGasMetalFractionsMaxRad','SubhaloGasMetalFractionsSfr','SubhaloGasMetalFractionsSfrWeighted','SubhaloGasMetallicity','SubhaloGasMetallicityHalfRad','SubhaloGasMetallicityMaxRad','SubhaloGasMetallicitySfr','SubhaloGasMetallicitySfrWeighted','SubhaloGrNr','SubhaloHalfmassRad','SubhaloHalfmassRadType','SubhaloIDMostbound','SubhaloLen','SubhaloLenType','SubhaloMass','SubhaloMassInHalfRad','SubhaloMassInHalfRadType','SubhaloMassInMaxRad','SubhaloMassInMaxRadType','SubhaloMassInRad','SubhaloMassInRadType','SubhaloMassType','SubhaloParent','SubhaloPos','SubhaloSFR','SubhaloSFRinHalfRad','SubhaloSFRinMaxRad','SubhaloSFRinRad','SubhaloSpin','SubhaloStarMetalFractions','SubhaloStarMetalFractionsHalfRad','SubhaloStarMetalFractionsMaxRad','SubhaloStarMetallicity','SubhaloStarMetallicityHalfRad','SubhaloStarMetallicityMaxRad','SubhaloStellarPhotometrics','SubhaloStellarPhotometricsMassInRad','SubhaloStellarPhotometricsRad','SubhaloVel','SubhaloVelDisp','SubhaloVmax','SubhaloVmaxRad','SubhaloWindMass')>"
      ]
     },
     "execution_count": 14,
     "metadata": {},
     "output_type": "execute_result"
    }
   ],
   "source": []
  },
  {
   "cell_type": "code",
   "execution_count": 26,
   "metadata": {},
   "outputs": [
    {
     "data": {
      "text/plain": [
       "'\\nfig, ax = plt.subplots(4,2)\\nfig.set_size_inches(16,20)\\nplt.subplots_adjust(hspace = 0.5)\\nband_names = [\\'U\\', \\'B\\', \\'V\\',\\'K\\', \\'g\\', \\'r\\', \\'i\\', \\'z\\']\\nfor bands in range(8):\\n    mag = subhalo_grp[\\'SubhaloStellarPhotometrics\\'][:,bands]\\n    #mask = mag<8e+36\\n    #mag= mag[mask]\\n    ax[bands%4][bands//4].hist(mag, bins=50)\\n    ax[bands%4][bands//4].set_xlabel(\\'magnitude in \\' + band_names[bands] + \" band\", fontsize = 16 )\\n    ax[bands%4][bands//4].set_ylabel(\\'count\\', fontsize = 16)\\n'"
      ]
     },
     "execution_count": 26,
     "metadata": {},
     "output_type": "execute_result"
    }
   ],
   "source": [
    "mask = subhalo_table['SubhaloStellarPhotometrics']<8e+36\n",
    "photo_mask = mask[:,0]\n",
    "for i in range (1,8):\n",
    "    photo_mask = photo_mask & mask[:,i]\n",
    "subhalo_table = subhalo_table[photo_mask]\n",
    "'''\n",
    "Cuts applied thus far:\n",
    "removed 9.9*10^36 magnitude\n",
    "'''\n",
    "'''\n",
    "fig, ax = plt.subplots(4,2)\n",
    "fig.set_size_inches(16,20)\n",
    "plt.subplots_adjust(hspace = 0.5)\n",
    "band_names = ['U', 'B', 'V','K', 'g', 'r', 'i', 'z']\n",
    "for bands in range(8):\n",
    "    mag = subhalo_grp['SubhaloStellarPhotometrics'][:,bands]\n",
    "    #mask = mag<8e+36\n",
    "    #mag= mag[mask]\n",
    "    ax[bands%4][bands//4].hist(mag, bins=50)\n",
    "    ax[bands%4][bands//4].set_xlabel('magnitude in ' + band_names[bands] + \" band\", fontsize = 16 )\n",
    "    ax[bands%4][bands//4].set_ylabel('count', fontsize = 16)\n",
    "    \n",
    "mag = subhalo_table['SubhaloStellarPhotometrics']\n",
    "g_minus_r = mag[:,4]-mag[:,5]\n",
    "r_minus_z = mag[:,5]-mag[:,7]\n",
    "\n",
    "\n",
    "heights, gmr, rmz = np.histogram2d(g_minus_r,r_minus_z,bins=50)\n",
    "plt.hist2d(r_minus_z, g_minus_r , bins = 30, cmap='viridis', range=[[0.2, 0.7], [0.2, 0.8]])#range=[[0.4, 0.7], [0.5, 0.8]])\n",
    "plt.colorbar()\n",
    "'''"
   ]
  },
  {
   "cell_type": "code",
   "execution_count": null,
   "metadata": {},
   "outputs": [],
   "source": []
  }
 ],
 "metadata": {
  "kernelspec": {
   "display_name": "Python 3",
   "language": "python",
   "name": "python3"
  },
  "language_info": {
   "codemirror_mode": {
    "name": "ipython",
    "version": 3
   },
   "file_extension": ".py",
   "mimetype": "text/x-python",
   "name": "python",
   "nbconvert_exporter": "python",
   "pygments_lexer": "ipython3",
   "version": "3.7.3"
  }
 },
 "nbformat": 4,
 "nbformat_minor": 4
}
